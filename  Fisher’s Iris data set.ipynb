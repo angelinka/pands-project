{
 "cells": [
  {
   "cell_type": "markdown",
   "metadata": {},
   "source": [
    "# Fisher’s Iris data set "
   ]
  },
  {
   "cell_type": "markdown",
   "metadata": {},
   "source": [
    "This is a data set also known as Iris flower data set which was published by  British statistician and biologist Ronald Fisher in 1936. [Wikipedia](https://en.wikipedia.org/wiki/Iris_flower_data_set)\n",
    "\n",
    "The data set consists of 150 records (50 for each of the three Iris species: Iris setosa, Iris versicolor and Iris virginica ) Each species in turn have four attributes which were measured: the length and the width of the sepals and petals in centimeters.\n",
    "![title](Images/flowers.png)\n",
    "(Sources: [1](https://commons.wikimedia.org/wiki/Category:Iris_setosa#/media/File:Irissetosa1.jpg), [2](https://en.wikipedia.org/wiki/Iris_flower_data_set#/media/File:Iris_versicolor_3.jpg), [3](https://en.wikipedia.org/wiki/Iris_flower_data_set#/media/File:Iris_virginica.jpg), Licenses: Public Domain)"
   ]
  },
  {
   "cell_type": "markdown",
   "metadata": {},
   "source": [
    "<br>\n",
    "\n",
    "## Saving original data set\n",
    "***"
   ]
  },
  {
   "cell_type": "code",
   "execution_count": 1,
   "metadata": {},
   "outputs": [
    {
     "name": "stdout",
     "output_type": "stream",
     "text": [
      "   sepal_length  sepal_width  petal_length  petal_width        class\n",
      "0           5.1          3.5           1.4          0.2  Iris-setosa\n",
      "1           4.9          3.0           1.4          0.2  Iris-setosa\n",
      "2           4.7          3.2           1.3          0.2  Iris-setosa\n",
      "3           4.6          3.1           1.5          0.2  Iris-setosa\n",
      "4           5.0          3.6           1.4          0.2  Iris-setosa\n",
      "5           5.4          3.9           1.7          0.4  Iris-setosa\n",
      "6           4.6          3.4           1.4          0.3  Iris-setosa\n",
      "7           5.0          3.4           1.5          0.2  Iris-setosa\n",
      "8           4.4          2.9           1.4          0.2  Iris-setosa\n",
      "9           4.9          3.1           1.5          0.1  Iris-setosa\n"
     ]
    }
   ],
   "source": [
    "from urllib.request import urlretrieve\n",
    "import pandas as pd\n",
    "\n",
    "#Assigning url of file. Idea taken from https://gist.github.com/curran/a08a1080b88344b0c8a7\n",
    "iris='https://archive.ics.uci.edu/ml/machine-learning-databases/iris/iris.data'\n",
    "#Saving file locally\n",
    "urlretrieve(iris)\n",
    "\n",
    "#Read file into a DataFrame and assign column names \n",
    "df = pd.read_csv(iris, sep=',', names=[\"sepal_length\", \"sepal_width\", \"petal_length\", \"petal_width\", \"class\"])\n",
    "#Print dataframe head/top (first 10 elements)\n",
    "print(df.head(10))"
   ]
  },
  {
   "cell_type": "code",
   "execution_count": 2,
   "metadata": {},
   "outputs": [
    {
     "data": {
      "text/plain": [
       "150"
      ]
     },
     "execution_count": 2,
     "metadata": {},
     "output_type": "execute_result"
    }
   ],
   "source": [
    "#Checking that whole data set has been imported (150 rows)\n",
    "len(df)"
   ]
  },
  {
   "cell_type": "markdown",
   "metadata": {},
   "source": [
    "<br>\n",
    "\n",
    "## Looking at data\n",
    "\n",
    "***\n",
    "Before we start analysing the data set lets have a look at the data more closely using pandas functionality.\n",
    "\n",
    "We can use <span style=\"color:SlateBlue; font-weight:bold;\">columns</span> attribute to show the column labels of the DataFrame. <br>\n",
    "Next, <span style=\"color:SlateBlue; font-weight:bold;\">index</span> attribute shows RangeIndex(start, stop, step), index was automatically assigned when the csv file was read and df was created.<br>\n",
    "<span style=\"color:SlateBlue; font-weight:bold;\">ndim</span> parameter shows the number of axes/dimensions of the data set.<br>\n",
    "<span style=\"color:SlateBlue; font-weight:bold;\">shape</span> attribute can be used to show the number of rows (if used with index 0) and columns (if used with index 1) in the data set.<br>\n",
    "<span style=\"color:SlateBlue; font-weight:bold;\">size</span> attribute shows total number of elements in the DataFrame (150 rows x 5 columns = 750).<br>\n",
    "<span style=\"color:SlateBlue; font-weight:bold;\">dtypes</span> attribute shows the data types of the DataFrame."
   ]
  },
  {
   "cell_type": "code",
   "execution_count": 3,
   "metadata": {},
   "outputs": [
    {
     "name": "stdout",
     "output_type": "stream",
     "text": [
      "The column labels of the iris DataFrame are:    sepal_length   sepal_width   petal_length   petal_width   class\n",
      " The index of the DataFrame is:  RangeIndex(start=0, stop=150, step=1) \n",
      "\n",
      "The iris DataFrame has 2 dimensions\n",
      "The iris data set has 150 rows and 5 columns\n",
      "The iris DataFrame has 750 elements in total \n",
      "\n",
      "The data types of iris DataFrame are as follows:\n",
      "sepal_length    float64\n",
      "sepal_width     float64\n",
      "petal_length    float64\n",
      "petal_width     float64\n",
      "class            object\n",
      "dtype: object\n"
     ]
    }
   ],
   "source": [
    "print(\"The column labels of the iris DataFrame are: \", *df.columns, sep = \"   \")\n",
    "print(\" The index of the DataFrame is: \", df.index, \"\\n\")\n",
    "print(f\"The iris DataFrame has {df.ndim} dimensions\")\n",
    "print(f\"The iris data set has {df.shape[0]} rows and {df.shape[1]} columns\")\n",
    "print(f\"The iris DataFrame has {df.size} elements in total\", \"\\n\")\n",
    "print(\"The data types of iris DataFrame are as follows:\")\n",
    "print(df.dtypes)"
   ]
  },
  {
   "cell_type": "code",
   "execution_count": null,
   "metadata": {},
   "outputs": [],
   "source": []
  },
  {
   "cell_type": "code",
   "execution_count": null,
   "metadata": {},
   "outputs": [],
   "source": []
  },
  {
   "cell_type": "code",
   "execution_count": null,
   "metadata": {},
   "outputs": [],
   "source": []
  },
  {
   "cell_type": "code",
   "execution_count": null,
   "metadata": {},
   "outputs": [],
   "source": []
  },
  {
   "cell_type": "code",
   "execution_count": null,
   "metadata": {},
   "outputs": [],
   "source": []
  }
 ],
 "metadata": {
  "kernelspec": {
   "display_name": "Python 3",
   "language": "python",
   "name": "python3"
  },
  "language_info": {
   "codemirror_mode": {
    "name": "ipython",
    "version": 3
   },
   "file_extension": ".py",
   "mimetype": "text/x-python",
   "name": "python",
   "nbconvert_exporter": "python",
   "pygments_lexer": "ipython3",
   "version": "3.8.5"
  }
 },
 "nbformat": 4,
 "nbformat_minor": 4
}
