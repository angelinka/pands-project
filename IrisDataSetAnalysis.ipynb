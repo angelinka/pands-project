{
 "cells": [
  {
   "cell_type": "markdown",
   "metadata": {},
   "source": [
    "# Fisher’s Iris data set "
   ]
  },
  {
   "cell_type": "markdown",
   "metadata": {},
   "source": [
    "This is a data set also known as Iris flower data set which was published by  British statistician and biologist Ronald Fisher in 1936. [Wikipedia](https://en.wikipedia.org/wiki/Iris_flower_data_set)\n",
    "\n",
    "The data set consists of 150 records (50 for each of the three Iris species: Iris setosa, Iris versicolor and Iris virginica ) Each species in turn have four attributes which were measured: the length and the width of the sepals and petals in centimeters.\n",
    "![title](Images/flowers.png)\n",
    "(Sources: [1](https://commons.wikimedia.org/wiki/Category:Iris_setosa#/media/File:Irissetosa1.jpg), [2](https://en.wikipedia.org/wiki/Iris_flower_data_set#/media/File:Iris_versicolor_3.jpg), [3](https://en.wikipedia.org/wiki/Iris_flower_data_set#/media/File:Iris_virginica.jpg), Licenses: Public Domain)"
   ]
  },
  {
   "cell_type": "markdown",
   "metadata": {},
   "source": [
    "<br>\n",
    "\n",
    "## Saving original data set\n",
    "***"
   ]
  },
  {
   "cell_type": "code",
   "execution_count": 1,
   "metadata": {},
   "outputs": [
    {
     "name": "stdout",
     "output_type": "stream",
     "text": [
      "   sepal_length  sepal_width  petal_length  petal_width        class\n",
      "0           5.1          3.5           1.4          0.2  Iris-setosa\n",
      "1           4.9          3.0           1.4          0.2  Iris-setosa\n",
      "2           4.7          3.2           1.3          0.2  Iris-setosa\n",
      "3           4.6          3.1           1.5          0.2  Iris-setosa\n",
      "4           5.0          3.6           1.4          0.2  Iris-setosa\n",
      "5           5.4          3.9           1.7          0.4  Iris-setosa\n",
      "6           4.6          3.4           1.4          0.3  Iris-setosa\n",
      "7           5.0          3.4           1.5          0.2  Iris-setosa\n",
      "8           4.4          2.9           1.4          0.2  Iris-setosa\n",
      "9           4.9          3.1           1.5          0.1  Iris-setosa\n"
     ]
    }
   ],
   "source": [
    "from urllib.request import urlretrieve\n",
    "import pandas as pd\n",
    "\n",
    "#Assigning url of file. Idea taken from https://gist.github.com/curran/a08a1080b88344b0c8a7\n",
    "iris='https://archive.ics.uci.edu/ml/machine-learning-databases/iris/iris.data'\n",
    "#Saving file locally\n",
    "urlretrieve(iris)\n",
    "\n",
    "#Read file into a DataFrame and assign column names \n",
    "df = pd.read_csv(iris, sep=',', names=[\"sepal_length\", \"sepal_width\", \"petal_length\", \"petal_width\", \"class\"])\n",
    "#Prints dataframe head/top (first 10 elements)\n",
    "print(df.head(10))"
   ]
  },
  {
   "cell_type": "code",
   "execution_count": 2,
   "metadata": {},
   "outputs": [
    {
     "data": {
      "text/plain": [
       "150"
      ]
     },
     "execution_count": 2,
     "metadata": {},
     "output_type": "execute_result"
    }
   ],
   "source": [
    "#Checking that whole data set has been imported (150 rows)\n",
    "len(df)"
   ]
  },
  {
   "cell_type": "markdown",
   "metadata": {},
   "source": [
    "<br>\n",
    "\n",
    "## Looking at data\n",
    "\n",
    "***\n",
    "Before we start analysing the data set lets have a look at the data more closely using pandas functionality.\n",
    "\n",
    "We can use <span style=\"color:SlateBlue; font-weight:bold;\">columns</span> attribute to show the column labels of the DataFrame. <br>\n",
    "Next, <span style=\"color:SlateBlue; font-weight:bold;\">index</span> attribute shows RangeIndex(start, stop, step), index was automatically assigned when the csv file was read and df was created.<br>\n",
    "<span style=\"color:SlateBlue; font-weight:bold;\">ndim</span> parameter shows the number of axes/dimensions of the data set.<br>\n",
    "<span style=\"color:SlateBlue; font-weight:bold;\">shape</span> attribute can be used to show the number of rows (if used with index 0) and columns (if used with index 1) in the data set.<br>\n",
    "<span style=\"color:SlateBlue; font-weight:bold;\">size</span> attribute shows total number of elements in the DataFrame (150 rows x 5 columns = 750).<br>\n",
    "<span style=\"color:SlateBlue; font-weight:bold;\">dtypes</span> attribute shows the data types of the DataFrame."
   ]
  },
  {
   "cell_type": "code",
   "execution_count": 3,
   "metadata": {},
   "outputs": [
    {
     "name": "stdout",
     "output_type": "stream",
     "text": [
      "The column labels of the iris DataFrame are:    sepal_length   sepal_width   petal_length   petal_width   class\n",
      " The index of the DataFrame is:  RangeIndex(start=0, stop=150, step=1) \n",
      "\n",
      "The iris DataFrame has 2 dimensions\n",
      "The iris data set has 150 rows and 5 columns\n",
      "The iris DataFrame has 750 elements in total \n",
      "\n",
      "The data types of iris DataFrame are as follows:\n",
      "sepal_length    float64\n",
      "sepal_width     float64\n",
      "petal_length    float64\n",
      "petal_width     float64\n",
      "class            object\n",
      "dtype: object\n"
     ]
    }
   ],
   "source": [
    "print(\"The column labels of the iris DataFrame are: \", *df.columns, sep = \"   \")\n",
    "print(\" The index of the DataFrame is: \", df.index, \"\\n\")\n",
    "print(f\"The iris DataFrame has {df.ndim} dimensions\")\n",
    "print(f\"The iris data set has {df.shape[0]} rows and {df.shape[1]} columns\")\n",
    "print(f\"The iris DataFrame has {df.size} elements in total\", \"\\n\")\n",
    "print(\"The data types of iris DataFrame are as follows:\")\n",
    "print(df.dtypes)"
   ]
  },
  {
   "cell_type": "markdown",
   "metadata": {},
   "source": [
    "Now lets check if there are any missing values in our data, which we can easily do by using <span style=\"color:SlateBlue; font-weight:bold;\">isnull</span> method which returns True or False values for each observation. Boolean values can be converted to 1 (True) or 0 (False) we can then combine it with the **sum** function to count the number of True values in the data set instead of printing all of the True or False values. After looking at the result we can confrim that there are no missing values in this data set."
   ]
  },
  {
   "cell_type": "code",
   "execution_count": 10,
   "metadata": {},
   "outputs": [
    {
     "name": "stdout",
     "output_type": "stream",
     "text": [
      "The number of null or missing values in the iris dataframe for each column: \n",
      "sepal_length    0\n",
      "sepal_width     0\n",
      "petal_length    0\n",
      "petal_width     0\n",
      "class           0\n",
      "dtype: int64\n"
     ]
    }
   ],
   "source": [
    "print(\"The number of null or missing values in the iris dataframe for each column: \")\n",
    "print(df.isnull().sum())"
   ]
  },
  {
   "cell_type": "markdown",
   "metadata": {},
   "source": [
    "The <span style=\"color:SlateBlue; font-weight:bold;\">info</span> method produses concise summary of a DataFrame. This method prints information about a DataFrame including the index dtype and columns, non-null values and memory usage.<br>\n",
    "The <span style=\"color:SlateBlue; font-weight:bold;\">count</span> method counts non-NA cells for each column or row.<br>\n",
    "The <span style=\"color:SlateBlue; font-weight:bold;\">unique</span> method returns unique values based on a hash table. If we use it on the 'class' column it will show how many different species of Iris flower are in our data set."
   ]
  },
  {
   "cell_type": "code",
   "execution_count": 13,
   "metadata": {},
   "outputs": [
    {
     "name": "stdout",
     "output_type": "stream",
     "text": [
      "A concise summary of the iris DataFrame: \n",
      "\n",
      "<class 'pandas.core.frame.DataFrame'>\n",
      "RangeIndex: 150 entries, 0 to 149\n",
      "Data columns (total 5 columns):\n",
      " #   Column        Non-Null Count  Dtype  \n",
      "---  ------        --------------  -----  \n",
      " 0   sepal_length  150 non-null    float64\n",
      " 1   sepal_width   150 non-null    float64\n",
      " 2   petal_length  150 non-null    float64\n",
      " 3   petal_width   150 non-null    float64\n",
      " 4   class         150 non-null    object \n",
      "dtypes: float64(4), object(1)\n",
      "memory usage: 6.0+ KB\n",
      "\n",
      " The number of non-NA cells for each column or row are: sepal_length    150\n",
      "sepal_width     150\n",
      "petal_length    150\n",
      "petal_width     150\n",
      "class           150\n",
      "dtype: int64\n",
      "\n",
      " The following are the three class or species types of iris in the data set \n",
      " Iris-setosa Iris-versicolor Iris-virginica\n"
     ]
    }
   ],
   "source": [
    "print(f\"A concise summary of the iris DataFrame: \\n\")\n",
    "df.info()\n",
    "print(f\"\\n The number of non-NA cells for each column or row are: {df.count()}\")\n",
    "species_type =df['class'].unique()\n",
    "print(\"\\n The following are the three class or species types of iris in the data set \\n\",*species_type, sep = \" \")"
   ]
  },
  {
   "cell_type": "code",
   "execution_count": null,
   "metadata": {},
   "outputs": [],
   "source": []
  },
  {
   "cell_type": "code",
   "execution_count": null,
   "metadata": {},
   "outputs": [],
   "source": []
  },
  {
   "cell_type": "code",
   "execution_count": null,
   "metadata": {},
   "outputs": [],
   "source": []
  },
  {
   "cell_type": "code",
   "execution_count": null,
   "metadata": {},
   "outputs": [],
   "source": []
  },
  {
   "cell_type": "code",
   "execution_count": null,
   "metadata": {},
   "outputs": [],
   "source": []
  },
  {
   "cell_type": "code",
   "execution_count": null,
   "metadata": {},
   "outputs": [],
   "source": []
  }
 ],
 "metadata": {
  "kernelspec": {
   "display_name": "Python 3",
   "language": "python",
   "name": "python3"
  },
  "language_info": {
   "codemirror_mode": {
    "name": "ipython",
    "version": 3
   },
   "file_extension": ".py",
   "mimetype": "text/x-python",
   "name": "python",
   "nbconvert_exporter": "python",
   "pygments_lexer": "ipython3",
   "version": "3.8.5"
  }
 },
 "nbformat": 4,
 "nbformat_minor": 4
}
