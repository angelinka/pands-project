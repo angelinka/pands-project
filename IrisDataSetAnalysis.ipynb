{
 "cells": [
  {
   "cell_type": "markdown",
   "metadata": {},
   "source": [
    "# Fisher’s Iris data set analysis using Python"
   ]
  },
  {
   "cell_type": "markdown",
   "metadata": {},
   "source": [
    "This is a data set also known as Iris flower data set which was published by British statistician and biologist Ronald Fisher in 1936. [Wikipedia](https://en.wikipedia.org/wiki/Iris_flower_data_set)\n",
    "\n",
    "The data set consists of 150 records (50 for each of the three Iris species: Iris setosa, Iris versicolor and Iris virginica ) Each species in turn have four attributes which were measured: the length and the width of the sepals and petals in centimeters.\n",
    "![title](Images/flowers.png)\n",
    "(Sources: [1](https://commons.wikimedia.org/wiki/Category:Iris_setosa#/media/File:Irissetosa1.jpg), [2](https://en.wikipedia.org/wiki/Iris_flower_data_set#/media/File:Iris_versicolor_3.jpg), [3](https://en.wikipedia.org/wiki/Iris_flower_data_set#/media/File:Iris_virginica.jpg), Licenses: Public Domain)"
   ]
  },
  {
   "cell_type": "markdown",
   "metadata": {},
   "source": [
    "<br>\n",
    "\n",
    "## Saving original data set\n",
    "***"
   ]
  },
  {
   "cell_type": "code",
   "execution_count": 1,
   "metadata": {},
   "outputs": [],
   "source": [
    "# First of all before performing any analyses on the data set we need to import all the necessary modules  \n",
    "# which we going to use in this project.\n",
    "\n",
    "# For downloading.\n",
    "from urllib.request import urlretrieve\n",
    "\n",
    "# For numerical arrays.\n",
    "import numpy as np\n",
    "\n",
    "# Data frames.\n",
    "import pandas as pd\n",
    "\n",
    "# For plotting.\n",
    "import matplotlib.pyplot as plt\n",
    "import seaborn as sns"
   ]
  },
  {
   "cell_type": "code",
   "execution_count": 2,
   "metadata": {},
   "outputs": [
    {
     "name": "stdout",
     "output_type": "stream",
     "text": [
      "   sepal_length  sepal_width  petal_length  petal_width        class\n",
      "0           5.1          3.5           1.4          0.2  Iris-setosa\n",
      "1           4.9          3.0           1.4          0.2  Iris-setosa\n",
      "2           4.7          3.2           1.3          0.2  Iris-setosa\n",
      "3           4.6          3.1           1.5          0.2  Iris-setosa\n",
      "4           5.0          3.6           1.4          0.2  Iris-setosa\n",
      "5           5.4          3.9           1.7          0.4  Iris-setosa\n",
      "6           4.6          3.4           1.4          0.3  Iris-setosa\n",
      "7           5.0          3.4           1.5          0.2  Iris-setosa\n",
      "8           4.4          2.9           1.4          0.2  Iris-setosa\n",
      "9           4.9          3.1           1.5          0.1  Iris-setosa\n"
     ]
    }
   ],
   "source": [
    "# Assigning url of file. Idea taken from https://gist.github.com/curran/a08a1080b88344b0c8a7\n",
    "iris='https://archive.ics.uci.edu/ml/machine-learning-databases/iris/iris.data'\n",
    "# Saving file locally.\n",
    "urlretrieve(iris)\n",
    "\n",
    "# Read file into a DataFrame and assign column names. \n",
    "df = pd.read_csv(iris, sep=',', names=[\"sepal_length\", \"sepal_width\", \"petal_length\", \"petal_width\", \"class\"])\n",
    "# Prints dataframe head(first 10 elements)\n",
    "print(df.head(10))"
   ]
  },
  {
   "cell_type": "code",
   "execution_count": 3,
   "metadata": {},
   "outputs": [
    {
     "data": {
      "text/plain": [
       "150"
      ]
     },
     "execution_count": 3,
     "metadata": {},
     "output_type": "execute_result"
    }
   ],
   "source": [
    "# Checking that whole data set has been imported (150 rows).\n",
    "len(df)"
   ]
  },
  {
   "cell_type": "markdown",
   "metadata": {},
   "source": [
    "<br>\n",
    "\n",
    "## Looking at data\n",
    "\n",
    "***\n",
    "Before we start analysing the data set lets have a look at the data more closely using pandas functionality.\n",
    "\n",
    "We can use <span style=\"color:SlateBlue; font-weight:bold;\">columns</span> attribute to show the column labels of the DataFrame. <br>\n",
    "Next, <span style=\"color:SlateBlue; font-weight:bold;\">index</span> attribute shows RangeIndex(start, stop, step), index was automatically assigned when the csv file was read and df was created.<br>\n",
    "<span style=\"color:SlateBlue; font-weight:bold;\">ndim</span> parameter shows the number of axes/dimensions of the data set.<br>\n",
    "<span style=\"color:SlateBlue; font-weight:bold;\">shape</span> attribute can be used to show the number of rows (if used with index 0) and columns (if used with index 1) in the data set.<br>\n",
    "<span style=\"color:SlateBlue; font-weight:bold;\">size</span> attribute shows total number of elements in the DataFrame (150 rows x 5 columns = 750).<br>\n",
    "<span style=\"color:SlateBlue; font-weight:bold;\">dtypes</span> attribute shows the data types of the DataFrame."
   ]
  },
  {
   "cell_type": "code",
   "execution_count": 4,
   "metadata": {},
   "outputs": [
    {
     "name": "stdout",
     "output_type": "stream",
     "text": [
      "The column labels of the iris DataFrame are:    sepal_length   sepal_width   petal_length   petal_width   class\n",
      " The index of the DataFrame is:  RangeIndex(start=0, stop=150, step=1) \n",
      "\n",
      "The iris DataFrame has 2 dimensions\n",
      "The iris data set has 150 rows and 5 columns\n",
      "The iris DataFrame has 750 elements in total \n",
      "\n",
      "The data types of iris DataFrame are as follows:\n",
      "sepal_length    float64\n",
      "sepal_width     float64\n",
      "petal_length    float64\n",
      "petal_width     float64\n",
      "class            object\n",
      "dtype: object\n"
     ]
    }
   ],
   "source": [
    "print(\"The column labels of the iris DataFrame are: \", *df.columns, sep = \"   \")\n",
    "print(\" The index of the DataFrame is: \", df.index, \"\\n\")\n",
    "print(f\"The iris DataFrame has {df.ndim} dimensions\")\n",
    "print(f\"The iris data set has {df.shape[0]} rows and {df.shape[1]} columns\")\n",
    "print(f\"The iris DataFrame has {df.size} elements in total\", \"\\n\")\n",
    "print(\"The data types of iris DataFrame are as follows:\")\n",
    "print(df.dtypes)"
   ]
  },
  {
   "cell_type": "markdown",
   "metadata": {},
   "source": [
    "Now lets check if there are any missing values in our data, which we can easily do by using <span style=\"color:SlateBlue; font-weight:bold;\">isnull</span> method which returns True or False values for each observation. Boolean values can be converted to 1 (True) or 0 (False) we can then combine it with the **sum** function to count the number of True values in the data set instead of printing all of the True or False values. After looking at the result we can confrim that there are no missing values in this data set."
   ]
  },
  {
   "cell_type": "code",
   "execution_count": 5,
   "metadata": {},
   "outputs": [
    {
     "name": "stdout",
     "output_type": "stream",
     "text": [
      "The number of null or missing values in the iris dataframe for each column: \n",
      "sepal_length    0\n",
      "sepal_width     0\n",
      "petal_length    0\n",
      "petal_width     0\n",
      "class           0\n",
      "dtype: int64\n"
     ]
    }
   ],
   "source": [
    "print(\"The number of null or missing values in the iris dataframe for each column: \")\n",
    "print(df.isnull().sum())"
   ]
  },
  {
   "cell_type": "markdown",
   "metadata": {},
   "source": [
    "The <span style=\"color:SlateBlue; font-weight:bold;\">info</span> method produses concise summary of a DataFrame. This method prints information about a DataFrame including the index dtype and columns, non-null values and memory usage.<br>\n",
    "The <span style=\"color:SlateBlue; font-weight:bold;\">count</span> method counts non-NA cells for each column or row.<br>\n",
    "The <span style=\"color:SlateBlue; font-weight:bold;\">unique</span> method returns unique values based on a hash table. If we use it on the 'class' column it will show how many different species of Iris flower are in our data set."
   ]
  },
  {
   "cell_type": "code",
   "execution_count": 6,
   "metadata": {},
   "outputs": [
    {
     "name": "stdout",
     "output_type": "stream",
     "text": [
      "A concise summary of the iris DataFrame: \n",
      "\n",
      "<class 'pandas.core.frame.DataFrame'>\n",
      "RangeIndex: 150 entries, 0 to 149\n",
      "Data columns (total 5 columns):\n",
      " #   Column        Non-Null Count  Dtype  \n",
      "---  ------        --------------  -----  \n",
      " 0   sepal_length  150 non-null    float64\n",
      " 1   sepal_width   150 non-null    float64\n",
      " 2   petal_length  150 non-null    float64\n",
      " 3   petal_width   150 non-null    float64\n",
      " 4   class         150 non-null    object \n",
      "dtypes: float64(4), object(1)\n",
      "memory usage: 6.0+ KB\n",
      "\n",
      " The number of non-NA cells for each column or row are: sepal_length    150\n",
      "sepal_width     150\n",
      "petal_length    150\n",
      "petal_width     150\n",
      "class           150\n",
      "dtype: int64\n",
      "\n",
      " The following are the three class or species types of iris in the data set \n",
      " Iris-setosa Iris-versicolor Iris-virginica\n"
     ]
    }
   ],
   "source": [
    "print(f\"A concise summary of the iris DataFrame: \\n\")\n",
    "df.info()\n",
    "print(f\"\\n The number of non-NA cells for each column or row are: {df.count()}\")\n",
    "species_type =df['class'].unique()\n",
    "print(\"\\n The following are the three class or species types of iris in the data set \\n\",*species_type, sep = \" \")"
   ]
  },
  {
   "cell_type": "markdown",
   "metadata": {},
   "source": [
    "Pandas data frame has a very convinient way of producing a summary of the data set, so instead of usign separate methods like max, min, std (standart deviation) we can just use **describe** function. This method also shows 25th, 50th and 75th percentiles. The 50 percentile is the same as the median."
   ]
  },
  {
   "cell_type": "code",
   "execution_count": 7,
   "metadata": {},
   "outputs": [
    {
     "name": "stdout",
     "output_type": "stream",
     "text": [
      "Summary statistics for the Iris DataFrame: \n",
      "\n",
      "       sepal_length  sepal_width  petal_length  petal_width\n",
      "count    150.000000   150.000000    150.000000   150.000000\n",
      "mean       5.843333     3.054000      3.758667     1.198667\n",
      "std        0.828066     0.433594      1.764420     0.763161\n",
      "min        4.300000     2.000000      1.000000     0.100000\n",
      "25%        5.100000     2.800000      1.600000     0.300000\n",
      "50%        5.800000     3.000000      4.350000     1.300000\n",
      "75%        6.400000     3.300000      5.100000     1.800000\n",
      "max        7.900000     4.400000      6.900000     2.500000\n"
     ]
    }
   ],
   "source": [
    "print(\"Summary statistics for the Iris DataFrame: \\n\")\n",
    "print(df.describe())"
   ]
  },
  {
   "cell_type": "code",
   "execution_count": 8,
   "metadata": {},
   "outputs": [],
   "source": [
    "# Saving summary to the text file.\n",
    "\n",
    "# To set the decimal point number to 2\n",
    "pd.set_option('display.precision', 2)\n",
    "summary = df.describe()\n",
    "\n",
    "with open('data/summary.txt', 'w') as f:\n",
    "    f.write(str(summary))"
   ]
  },
  {
   "cell_type": "code",
   "execution_count": 9,
   "metadata": {},
   "outputs": [
    {
     "data": {
      "text/html": [
       "<div>\n",
       "<style scoped>\n",
       "    .dataframe tbody tr th:only-of-type {\n",
       "        vertical-align: middle;\n",
       "    }\n",
       "\n",
       "    .dataframe tbody tr th {\n",
       "        vertical-align: top;\n",
       "    }\n",
       "\n",
       "    .dataframe thead tr th {\n",
       "        text-align: left;\n",
       "    }\n",
       "\n",
       "    .dataframe thead tr:last-of-type th {\n",
       "        text-align: right;\n",
       "    }\n",
       "</style>\n",
       "<table border=\"1\" class=\"dataframe\">\n",
       "  <thead>\n",
       "    <tr>\n",
       "      <th></th>\n",
       "      <th colspan=\"8\" halign=\"left\">sepal_length</th>\n",
       "      <th colspan=\"2\" halign=\"left\">sepal_width</th>\n",
       "      <th>...</th>\n",
       "      <th colspan=\"2\" halign=\"left\">petal_length</th>\n",
       "      <th colspan=\"8\" halign=\"left\">petal_width</th>\n",
       "    </tr>\n",
       "    <tr>\n",
       "      <th></th>\n",
       "      <th>count</th>\n",
       "      <th>mean</th>\n",
       "      <th>std</th>\n",
       "      <th>min</th>\n",
       "      <th>25%</th>\n",
       "      <th>50%</th>\n",
       "      <th>75%</th>\n",
       "      <th>max</th>\n",
       "      <th>count</th>\n",
       "      <th>mean</th>\n",
       "      <th>...</th>\n",
       "      <th>75%</th>\n",
       "      <th>max</th>\n",
       "      <th>count</th>\n",
       "      <th>mean</th>\n",
       "      <th>std</th>\n",
       "      <th>min</th>\n",
       "      <th>25%</th>\n",
       "      <th>50%</th>\n",
       "      <th>75%</th>\n",
       "      <th>max</th>\n",
       "    </tr>\n",
       "    <tr>\n",
       "      <th>class</th>\n",
       "      <th></th>\n",
       "      <th></th>\n",
       "      <th></th>\n",
       "      <th></th>\n",
       "      <th></th>\n",
       "      <th></th>\n",
       "      <th></th>\n",
       "      <th></th>\n",
       "      <th></th>\n",
       "      <th></th>\n",
       "      <th></th>\n",
       "      <th></th>\n",
       "      <th></th>\n",
       "      <th></th>\n",
       "      <th></th>\n",
       "      <th></th>\n",
       "      <th></th>\n",
       "      <th></th>\n",
       "      <th></th>\n",
       "      <th></th>\n",
       "      <th></th>\n",
       "    </tr>\n",
       "  </thead>\n",
       "  <tbody>\n",
       "    <tr>\n",
       "      <th>Iris-setosa</th>\n",
       "      <td>50.0</td>\n",
       "      <td>5.01</td>\n",
       "      <td>0.35</td>\n",
       "      <td>4.3</td>\n",
       "      <td>4.80</td>\n",
       "      <td>5.0</td>\n",
       "      <td>5.2</td>\n",
       "      <td>5.8</td>\n",
       "      <td>50.0</td>\n",
       "      <td>3.42</td>\n",
       "      <td>...</td>\n",
       "      <td>1.58</td>\n",
       "      <td>1.9</td>\n",
       "      <td>50.0</td>\n",
       "      <td>0.24</td>\n",
       "      <td>0.11</td>\n",
       "      <td>0.1</td>\n",
       "      <td>0.2</td>\n",
       "      <td>0.2</td>\n",
       "      <td>0.3</td>\n",
       "      <td>0.6</td>\n",
       "    </tr>\n",
       "    <tr>\n",
       "      <th>Iris-versicolor</th>\n",
       "      <td>50.0</td>\n",
       "      <td>5.94</td>\n",
       "      <td>0.52</td>\n",
       "      <td>4.9</td>\n",
       "      <td>5.60</td>\n",
       "      <td>5.9</td>\n",
       "      <td>6.3</td>\n",
       "      <td>7.0</td>\n",
       "      <td>50.0</td>\n",
       "      <td>2.77</td>\n",
       "      <td>...</td>\n",
       "      <td>4.60</td>\n",
       "      <td>5.1</td>\n",
       "      <td>50.0</td>\n",
       "      <td>1.33</td>\n",
       "      <td>0.20</td>\n",
       "      <td>1.0</td>\n",
       "      <td>1.2</td>\n",
       "      <td>1.3</td>\n",
       "      <td>1.5</td>\n",
       "      <td>1.8</td>\n",
       "    </tr>\n",
       "    <tr>\n",
       "      <th>Iris-virginica</th>\n",
       "      <td>50.0</td>\n",
       "      <td>6.59</td>\n",
       "      <td>0.64</td>\n",
       "      <td>4.9</td>\n",
       "      <td>6.23</td>\n",
       "      <td>6.5</td>\n",
       "      <td>6.9</td>\n",
       "      <td>7.9</td>\n",
       "      <td>50.0</td>\n",
       "      <td>2.97</td>\n",
       "      <td>...</td>\n",
       "      <td>5.88</td>\n",
       "      <td>6.9</td>\n",
       "      <td>50.0</td>\n",
       "      <td>2.03</td>\n",
       "      <td>0.27</td>\n",
       "      <td>1.4</td>\n",
       "      <td>1.8</td>\n",
       "      <td>2.0</td>\n",
       "      <td>2.3</td>\n",
       "      <td>2.5</td>\n",
       "    </tr>\n",
       "  </tbody>\n",
       "</table>\n",
       "<p>3 rows × 32 columns</p>\n",
       "</div>"
      ],
      "text/plain": [
       "                sepal_length                                        \\\n",
       "                       count  mean   std  min   25%  50%  75%  max   \n",
       "class                                                                \n",
       "Iris-setosa             50.0  5.01  0.35  4.3  4.80  5.0  5.2  5.8   \n",
       "Iris-versicolor         50.0  5.94  0.52  4.9  5.60  5.9  6.3  7.0   \n",
       "Iris-virginica          50.0  6.59  0.64  4.9  6.23  6.5  6.9  7.9   \n",
       "\n",
       "                sepal_width        ... petal_length      petal_width        \\\n",
       "                      count  mean  ...          75%  max       count  mean   \n",
       "class                              ...                                       \n",
       "Iris-setosa            50.0  3.42  ...         1.58  1.9        50.0  0.24   \n",
       "Iris-versicolor        50.0  2.77  ...         4.60  5.1        50.0  1.33   \n",
       "Iris-virginica         50.0  2.97  ...         5.88  6.9        50.0  2.03   \n",
       "\n",
       "                                                \n",
       "                  std  min  25%  50%  75%  max  \n",
       "class                                           \n",
       "Iris-setosa      0.11  0.1  0.2  0.2  0.3  0.6  \n",
       "Iris-versicolor  0.20  1.0  1.2  1.3  1.5  1.8  \n",
       "Iris-virginica   0.27  1.4  1.8  2.0  2.3  2.5  \n",
       "\n",
       "[3 rows x 32 columns]"
      ]
     },
     "execution_count": 9,
     "metadata": {},
     "output_type": "execute_result"
    }
   ],
   "source": [
    "# we can also perform summary analysis on Iris flowers depending on their class \n",
    "sumByClass = df.groupby('class').describe()\n",
    "sumByClass"
   ]
  },
  {
   "cell_type": "code",
   "execution_count": 10,
   "metadata": {},
   "outputs": [
    {
     "data": {
      "text/html": [
       "<div>\n",
       "<style scoped>\n",
       "    .dataframe tbody tr th:only-of-type {\n",
       "        vertical-align: middle;\n",
       "    }\n",
       "\n",
       "    .dataframe tbody tr th {\n",
       "        vertical-align: top;\n",
       "    }\n",
       "\n",
       "    .dataframe thead th {\n",
       "        text-align: right;\n",
       "    }\n",
       "</style>\n",
       "<table border=\"1\" class=\"dataframe\">\n",
       "  <thead>\n",
       "    <tr style=\"text-align: right;\">\n",
       "      <th></th>\n",
       "      <th>sepal_length</th>\n",
       "      <th>sepal_width</th>\n",
       "      <th>petal_length</th>\n",
       "      <th>petal_width</th>\n",
       "    </tr>\n",
       "  </thead>\n",
       "  <tbody>\n",
       "    <tr>\n",
       "      <th>count</th>\n",
       "      <td>50.00</td>\n",
       "      <td>50.00</td>\n",
       "      <td>50.00</td>\n",
       "      <td>50.00</td>\n",
       "    </tr>\n",
       "    <tr>\n",
       "      <th>mean</th>\n",
       "      <td>5.01</td>\n",
       "      <td>3.42</td>\n",
       "      <td>1.46</td>\n",
       "      <td>0.24</td>\n",
       "    </tr>\n",
       "    <tr>\n",
       "      <th>std</th>\n",
       "      <td>0.35</td>\n",
       "      <td>0.38</td>\n",
       "      <td>0.17</td>\n",
       "      <td>0.11</td>\n",
       "    </tr>\n",
       "    <tr>\n",
       "      <th>min</th>\n",
       "      <td>4.30</td>\n",
       "      <td>2.30</td>\n",
       "      <td>1.00</td>\n",
       "      <td>0.10</td>\n",
       "    </tr>\n",
       "    <tr>\n",
       "      <th>25%</th>\n",
       "      <td>4.80</td>\n",
       "      <td>3.12</td>\n",
       "      <td>1.40</td>\n",
       "      <td>0.20</td>\n",
       "    </tr>\n",
       "    <tr>\n",
       "      <th>50%</th>\n",
       "      <td>5.00</td>\n",
       "      <td>3.40</td>\n",
       "      <td>1.50</td>\n",
       "      <td>0.20</td>\n",
       "    </tr>\n",
       "    <tr>\n",
       "      <th>75%</th>\n",
       "      <td>5.20</td>\n",
       "      <td>3.68</td>\n",
       "      <td>1.58</td>\n",
       "      <td>0.30</td>\n",
       "    </tr>\n",
       "    <tr>\n",
       "      <th>max</th>\n",
       "      <td>5.80</td>\n",
       "      <td>4.40</td>\n",
       "      <td>1.90</td>\n",
       "      <td>0.60</td>\n",
       "    </tr>\n",
       "  </tbody>\n",
       "</table>\n",
       "</div>"
      ],
      "text/plain": [
       "       sepal_length  sepal_width  petal_length  petal_width\n",
       "count         50.00        50.00         50.00        50.00\n",
       "mean           5.01         3.42          1.46         0.24\n",
       "std            0.35         0.38          0.17         0.11\n",
       "min            4.30         2.30          1.00         0.10\n",
       "25%            4.80         3.12          1.40         0.20\n",
       "50%            5.00         3.40          1.50         0.20\n",
       "75%            5.20         3.68          1.58         0.30\n",
       "max            5.80         4.40          1.90         0.60"
      ]
     },
     "execution_count": 10,
     "metadata": {},
     "output_type": "execute_result"
    }
   ],
   "source": [
    "sumSetosa = df[df['class'] == 'Iris-setosa'].describe()\n",
    "sumSetosa"
   ]
  },
  {
   "cell_type": "code",
   "execution_count": 11,
   "metadata": {},
   "outputs": [
    {
     "data": {
      "text/html": [
       "<div>\n",
       "<style scoped>\n",
       "    .dataframe tbody tr th:only-of-type {\n",
       "        vertical-align: middle;\n",
       "    }\n",
       "\n",
       "    .dataframe tbody tr th {\n",
       "        vertical-align: top;\n",
       "    }\n",
       "\n",
       "    .dataframe thead th {\n",
       "        text-align: right;\n",
       "    }\n",
       "</style>\n",
       "<table border=\"1\" class=\"dataframe\">\n",
       "  <thead>\n",
       "    <tr style=\"text-align: right;\">\n",
       "      <th></th>\n",
       "      <th>sepal_length</th>\n",
       "      <th>sepal_width</th>\n",
       "      <th>petal_length</th>\n",
       "      <th>petal_width</th>\n",
       "    </tr>\n",
       "  </thead>\n",
       "  <tbody>\n",
       "    <tr>\n",
       "      <th>count</th>\n",
       "      <td>50.00</td>\n",
       "      <td>50.00</td>\n",
       "      <td>50.00</td>\n",
       "      <td>50.00</td>\n",
       "    </tr>\n",
       "    <tr>\n",
       "      <th>mean</th>\n",
       "      <td>5.94</td>\n",
       "      <td>2.77</td>\n",
       "      <td>4.26</td>\n",
       "      <td>1.33</td>\n",
       "    </tr>\n",
       "    <tr>\n",
       "      <th>std</th>\n",
       "      <td>0.52</td>\n",
       "      <td>0.31</td>\n",
       "      <td>0.47</td>\n",
       "      <td>0.20</td>\n",
       "    </tr>\n",
       "    <tr>\n",
       "      <th>min</th>\n",
       "      <td>4.90</td>\n",
       "      <td>2.00</td>\n",
       "      <td>3.00</td>\n",
       "      <td>1.00</td>\n",
       "    </tr>\n",
       "    <tr>\n",
       "      <th>25%</th>\n",
       "      <td>5.60</td>\n",
       "      <td>2.52</td>\n",
       "      <td>4.00</td>\n",
       "      <td>1.20</td>\n",
       "    </tr>\n",
       "    <tr>\n",
       "      <th>50%</th>\n",
       "      <td>5.90</td>\n",
       "      <td>2.80</td>\n",
       "      <td>4.35</td>\n",
       "      <td>1.30</td>\n",
       "    </tr>\n",
       "    <tr>\n",
       "      <th>75%</th>\n",
       "      <td>6.30</td>\n",
       "      <td>3.00</td>\n",
       "      <td>4.60</td>\n",
       "      <td>1.50</td>\n",
       "    </tr>\n",
       "    <tr>\n",
       "      <th>max</th>\n",
       "      <td>7.00</td>\n",
       "      <td>3.40</td>\n",
       "      <td>5.10</td>\n",
       "      <td>1.80</td>\n",
       "    </tr>\n",
       "  </tbody>\n",
       "</table>\n",
       "</div>"
      ],
      "text/plain": [
       "       sepal_length  sepal_width  petal_length  petal_width\n",
       "count         50.00        50.00         50.00        50.00\n",
       "mean           5.94         2.77          4.26         1.33\n",
       "std            0.52         0.31          0.47         0.20\n",
       "min            4.90         2.00          3.00         1.00\n",
       "25%            5.60         2.52          4.00         1.20\n",
       "50%            5.90         2.80          4.35         1.30\n",
       "75%            6.30         3.00          4.60         1.50\n",
       "max            7.00         3.40          5.10         1.80"
      ]
     },
     "execution_count": 11,
     "metadata": {},
     "output_type": "execute_result"
    }
   ],
   "source": [
    "sumVersicolor = df[df['class'] == 'Iris-versicolor'].describe()\n",
    "sumVersicolor"
   ]
  },
  {
   "cell_type": "code",
   "execution_count": 12,
   "metadata": {},
   "outputs": [
    {
     "data": {
      "text/html": [
       "<div>\n",
       "<style scoped>\n",
       "    .dataframe tbody tr th:only-of-type {\n",
       "        vertical-align: middle;\n",
       "    }\n",
       "\n",
       "    .dataframe tbody tr th {\n",
       "        vertical-align: top;\n",
       "    }\n",
       "\n",
       "    .dataframe thead th {\n",
       "        text-align: right;\n",
       "    }\n",
       "</style>\n",
       "<table border=\"1\" class=\"dataframe\">\n",
       "  <thead>\n",
       "    <tr style=\"text-align: right;\">\n",
       "      <th></th>\n",
       "      <th>sepal_length</th>\n",
       "      <th>sepal_width</th>\n",
       "      <th>petal_length</th>\n",
       "      <th>petal_width</th>\n",
       "    </tr>\n",
       "  </thead>\n",
       "  <tbody>\n",
       "    <tr>\n",
       "      <th>count</th>\n",
       "      <td>50.00</td>\n",
       "      <td>50.00</td>\n",
       "      <td>50.00</td>\n",
       "      <td>50.00</td>\n",
       "    </tr>\n",
       "    <tr>\n",
       "      <th>mean</th>\n",
       "      <td>6.59</td>\n",
       "      <td>2.97</td>\n",
       "      <td>5.55</td>\n",
       "      <td>2.03</td>\n",
       "    </tr>\n",
       "    <tr>\n",
       "      <th>std</th>\n",
       "      <td>0.64</td>\n",
       "      <td>0.32</td>\n",
       "      <td>0.55</td>\n",
       "      <td>0.27</td>\n",
       "    </tr>\n",
       "    <tr>\n",
       "      <th>min</th>\n",
       "      <td>4.90</td>\n",
       "      <td>2.20</td>\n",
       "      <td>4.50</td>\n",
       "      <td>1.40</td>\n",
       "    </tr>\n",
       "    <tr>\n",
       "      <th>25%</th>\n",
       "      <td>6.23</td>\n",
       "      <td>2.80</td>\n",
       "      <td>5.10</td>\n",
       "      <td>1.80</td>\n",
       "    </tr>\n",
       "    <tr>\n",
       "      <th>50%</th>\n",
       "      <td>6.50</td>\n",
       "      <td>3.00</td>\n",
       "      <td>5.55</td>\n",
       "      <td>2.00</td>\n",
       "    </tr>\n",
       "    <tr>\n",
       "      <th>75%</th>\n",
       "      <td>6.90</td>\n",
       "      <td>3.18</td>\n",
       "      <td>5.88</td>\n",
       "      <td>2.30</td>\n",
       "    </tr>\n",
       "    <tr>\n",
       "      <th>max</th>\n",
       "      <td>7.90</td>\n",
       "      <td>3.80</td>\n",
       "      <td>6.90</td>\n",
       "      <td>2.50</td>\n",
       "    </tr>\n",
       "  </tbody>\n",
       "</table>\n",
       "</div>"
      ],
      "text/plain": [
       "       sepal_length  sepal_width  petal_length  petal_width\n",
       "count         50.00        50.00         50.00        50.00\n",
       "mean           6.59         2.97          5.55         2.03\n",
       "std            0.64         0.32          0.55         0.27\n",
       "min            4.90         2.20          4.50         1.40\n",
       "25%            6.23         2.80          5.10         1.80\n",
       "50%            6.50         3.00          5.55         2.00\n",
       "75%            6.90         3.18          5.88         2.30\n",
       "max            7.90         3.80          6.90         2.50"
      ]
     },
     "execution_count": 12,
     "metadata": {},
     "output_type": "execute_result"
    }
   ],
   "source": [
    "sumVirginica = df[df['class'] == 'Iris-virginica'].describe()\n",
    "sumVirginica"
   ]
  },
  {
   "cell_type": "markdown",
   "metadata": {},
   "source": [
    "## Visualising the data\n",
    "***\n",
    "\n",
    "Best way to understand the relation between variables is to see it on the plot, therefore as a next step in our analysis we going to create a few plots in the attempts to find out the correlation and dependencies between different Iris species in our data set.<br>\n",
    "\n",
    "First, lets have a look at the relationship between the sepal length and sepal width."
   ]
  },
  {
   "cell_type": "code",
   "execution_count": 14,
   "metadata": {},
   "outputs": [
    {
     "data": {
      "image/png": "[encoded data removed]",
      "text/plain": [
       "<Figure size 432x288 with 1 Axes>"
      ]
     },
     "metadata": {
      "needs_background": "light"
     },
     "output_type": "display_data"
    }
   ],
   "source": [
    "sns.scatterplot(x='sepal_length', y='sepal_width',\n",
    "                hue='class', data=df, )\n",
    "  \n",
    "# Placing Legend outside the Figure\n",
    "plt.legend(bbox_to_anchor=(1, 1), loc=2)\n",
    "  \n",
    "plt.show()"
   ]
  },
  {
   "cell_type": "markdown",
   "metadata": {},
   "source": [
    "Here are the conculsions we can make from the plot above:\n",
    " - Iris-setosa species has smaller sepal lengths (not greate than 6.0 cm) but larger sepal widths(not less than 2.3 cm, with majority being around 3.4 cm).\n",
    " - Iris-virginica on the other hand is opposite of setosa species and has larger sepal lengths (not less than 6.0 cm ) but smaller sepal widths (not greater than 3.8 cm).\n",
    " - Iris-versicolor species falls somewhere in the middle of the other two species in terms of sepal length (not less than 5.0 cm) and width (not greater than 3.4 cm).\n",
    " <br>\n",
    " Now, lets compare petal length and petal width"
   ]
  },
  {
   "cell_type": "code",
   "execution_count": 15,
   "metadata": {},
   "outputs": [
    {
     "data": {
      "image/png": "[encoded data removed]",
      "text/plain": [
       "<Figure size 432x288 with 1 Axes>"
      ]
     },
     "metadata": {
      "needs_background": "light"
     },
     "output_type": "display_data"
    }
   ],
   "source": [
    "sns.scatterplot(x='petal_length', y='petal_width',\n",
    "                hue='class', data=df, )\n",
    "  \n",
    "# Placing Legend outside the Figure\n",
    "plt.legend(bbox_to_anchor=(1, 1), loc=2)\n",
    "  \n",
    "plt.show()"
   ]
  },
  {
   "cell_type": "markdown",
   "metadata": {},
   "source": [
    "Here are the conculsions we can make from the plot above:\n",
    "- Iris-setosa has both smaller petal lengths (not greater than 2 cm) and widths (not greater than 0.6 cm).\n",
    "- Iris-virginica is again the opposite of Setosa and has the largest of petal lengths (not less than 4.5 cm) and widths (not less than 1.4 cm).\n",
    "- Iris-versicolor species once again is in the middle of the other two species in terms of petal length and width.\n"
   ]
  },
  {
   "cell_type": "code",
   "execution_count": null,
   "metadata": {},
   "outputs": [],
   "source": []
  },
  {
   "cell_type": "code",
   "execution_count": null,
   "metadata": {},
   "outputs": [],
   "source": []
  }
 ],
 "metadata": {
  "kernelspec": {
   "display_name": "Python 3",
   "language": "python",
   "name": "python3"
  },
  "language_info": {
   "codemirror_mode": {
    "name": "ipython",
    "version": 3
   },
   "file_extension": ".py",
   "mimetype": "text/x-python",
   "name": "python",
   "nbconvert_exporter": "python",
   "pygments_lexer": "ipython3",
   "version": "3.8.5"
  }
 },
 "nbformat": 4,
 "nbformat_minor": 4
}
